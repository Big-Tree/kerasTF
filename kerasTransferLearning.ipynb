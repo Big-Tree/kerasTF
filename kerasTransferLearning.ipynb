{
 "cells": [
  {
   "cell_type": "code",
   "execution_count": 33,
   "metadata": {
    "ExecuteTime": {
     "end_time": "2018-07-10T18:30:57.365710Z",
     "start_time": "2018-07-10T18:30:57.357016Z"
    }
   },
   "outputs": [
    {
     "name": "stdout",
     "output_type": "stream",
     "text": [
      "True\n",
      "/vol/vssp/mammo2/will/logs/newhello\n"
     ]
    }
   ],
   "source": [
    "import os\n",
    "log_dir = '/vol/vssp/mammo2/will/logs/new'\n",
    "fCount = 0\n",
    "while os.path.exists(os.path.join(log_dir, 'training', str(fCount))):\n",
    "    fCount+=1\n",
    "    \n",
    "print(os.path.exists(os.path.join(log_dir, 'training')))\n",
    "print(log_dir + 'hello')"
   ]
  },
  {
   "cell_type": "code",
   "execution_count": null,
   "metadata": {
    "ExecuteTime": {
     "start_time": "2018-07-10T19:16:26.159Z"
    },
    "code_folding": [
     18
    ]
   },
   "outputs": [
    {
     "name": "stderr",
     "output_type": "stream",
     "text": [
      "Using TensorFlow backend.\n"
     ]
    },
    {
     "name": "stdout",
     "output_type": "stream",
     "text": [
      "keras version:  2.2.0\n"
     ]
    },
    {
     "data": {
      "text/plain": [
       "<Figure size 640x480 with 1 Axes>"
      ]
     },
     "metadata": {},
     "output_type": "display_data"
    },
    {
     "name": "stdout",
     "output_type": "stream",
     "text": [
      "new data shape =  (1620, 385, 385, 1)\n",
      "Train on 1458 samples, validate on 162 samples\n",
      "Epoch 1/100\n",
      "1458/1458 [==============================] - 8s 5ms/step - loss: 0.6861 - acc: 0.5542 - val_loss: 0.6860 - val_acc: 0.4938\n",
      "Epoch 2/100\n",
      "1400/1458 [===========================>..] - ETA: 0s - loss: 0.6517 - acc: 0.5993"
     ]
    }
   ],
   "source": [
    "# fold\n",
    "import cv2\n",
    "import glob\n",
    "import matplotlib.pyplot as plt\n",
    "import math\n",
    "from keras.models import Sequential\n",
    "from keras.layers import Dense, Dropout, Flatten\n",
    "from keras.layers import Conv2D, MaxPooling2D\n",
    "from keras.utils import np_utils\n",
    "from keras import optimizers\n",
    "# For some reason I have to tell it to use TensorFlows dimension ordering\n",
    "from keras import backend as K\n",
    "K.set_image_dim_ordering('tf')\n",
    "from keras.callbacks import TensorBoard\n",
    "from time import time\n",
    "import os\n",
    "import tensorflow as tf\n",
    "\n",
    "class TrainValTensorBoard(TensorBoard):\n",
    "    def __init__(self, log_dir='/vol/vssp/mammo2/will/logs/new', **kwargs):\n",
    "        # Make the original `TensorBoard` log to a subdirectory 'training'\n",
    "        fCount=0\n",
    "        while os.path.exists(os.path.join(log_dir, 'training' + _ + str(fCount))):\n",
    "            fCount+=1\n",
    "        training_log_dir = os.path.join(log_dir, 'training' + _ + str(fCount))\n",
    "        super(TrainValTensorBoard, self).__init__(training_log_dir, **kwargs)\n",
    "\n",
    "        # Log the validation metrics to a separate subdirectory\n",
    "        self.val_log_dir = os.path.join(log_dir, 'validation' + _ + str(fCount))\n",
    "\n",
    "    def set_model(self, model):\n",
    "        # Setup writer for validation metrics\n",
    "        self.val_writer = tf.summary.FileWriter(self.val_log_dir)\n",
    "        super(TrainValTensorBoard, self).set_model(model)\n",
    "\n",
    "    def on_epoch_end(self, epoch, logs=None):\n",
    "        # Pop the validation logs and handle them separately with\n",
    "        # `self.val_writer`. Also rename the keys so that they can\n",
    "        # be plotted on the same figure with the training metrics\n",
    "        logs = logs or {}\n",
    "        val_logs = {k.replace('val_', ''): v for k, v in logs.items() if k.startswith('val_')}\n",
    "        for name, value in val_logs.items():\n",
    "            summary = tf.Summary()\n",
    "            summary_value = summary.value.add()\n",
    "            summary_value.simple_value = value.item()\n",
    "            summary_value.tag = name\n",
    "            self.val_writer.add_summary(summary, epoch)\n",
    "        self.val_writer.flush()\n",
    "\n",
    "        # Pass the remaining logs to `TensorBoard.on_epoch_end`\n",
    "        logs = {k: v for k, v in logs.items() if not k.startswith('val_')}\n",
    "        super(TrainValTensorBoard, self).on_epoch_end(epoch, logs)\n",
    "\n",
    "    def on_train_end(self, logs=None):\n",
    "        super(TrainValTensorBoard, self).on_train_end(logs)\n",
    "        self.val_writer.close()\n",
    "\n",
    "\n",
    "def get_images(path, dataSpecs):\n",
    "    fileList = glob.glob(path) #'BengaliBMPConvert/*.bmp'   \n",
    "    num = len(fileList)\n",
    "    dataSpecs['classLength'].append(len(fileList))\n",
    "    x = np.array([(cv2.imread(fname)) for fname in fileList])\n",
    "    return x\n",
    "\n",
    "def get_labels_one_hot(num_classes, class_id, num_samples):\n",
    "    x = np.zeros((num_samples, num_classes))\n",
    "    x[np.arange(num_samples),class_id] = 1\n",
    "    return x\n",
    " \n",
    "    \n",
    "    \n",
    "def main():\n",
    "    import keras\n",
    "    print('keras version: ', keras.__version__)\n",
    "    \n",
    "    # Get images and labels\n",
    "    data = {'img': 0, 'label': 0}\n",
    "    dataSpecs = {'classLength': []}\n",
    "    dataSpecs['classLength'] = []\n",
    "    data['img'] = np.concatenate((\n",
    "            #get_images('/vol/vssp/mammo2/will/data/simulated/calcs/small_sample/0/*', dataSpecs), # Class 0\n",
    "            #get_images('/vol/vssp/mammo2/will/data/simulated/calcs/small_sample/1/*', dataSpecs) # Class 1\n",
    "            get_images('/user/HS204/wm0015/student/allCalcs/0/*', dataSpecs), # Class 0\n",
    "            get_images('/user/HS204/wm0015/student/allCalcs/1/*', dataSpecs) # Class 1\n",
    "    ))      \n",
    "\n",
    "    # Normalise\n",
    "    data['img'] = data['img']/255    \n",
    "    # Print image    \n",
    "    img_calc = data['img']   \n",
    "    plt.imshow(img_calc[0], cmap='gray')\n",
    "    plt.show()\n",
    "    \n",
    "    # Create one hot labels\n",
    "    labels_bg = get_labels_one_hot(2, 0, dataSpecs['classLength'][0])  \n",
    "    labels_calc = get_labels_one_hot(2, 1, dataSpecs['classLength'][1])\n",
    "    data['label'] = np.concatenate((\n",
    "            get_labels_one_hot(2, 0, dataSpecs['classLength'][0]), # Class 0 \n",
    "            get_labels_one_hot(2, 1, dataSpecs['classLength'][1]) # Class 1\n",
    "    ))\n",
    "    # Drop from 3 colour channels to 1 (greyscale)\n",
    "    if 1==1:\n",
    "        data['img'] = data['img'][:,:,:,0]\n",
    "        data['img'] = np.reshape(data['img'], (data['img'].shape[0],data['img'].shape[1],data['img'].shape[2],1))\n",
    "        print('new data shape = ', data['img'].shape)\n",
    "    \n",
    "    valStats = []\n",
    "    folds = 50\n",
    "    for crossVal in range(folds):\n",
    "\n",
    "        # Shuffle data\n",
    "        seed = 33\n",
    "    #     np.random.seed(seed) # Has to be set before each use of random\n",
    "        shuffleMask = np.random.permutation(data['img'].shape[0])    \n",
    "        data['img'] = data['img'][shuffleMask, :, :, :]\n",
    "        data['label'] = data['label'][shuffleMask, :]\n",
    "\n",
    "        # Split traing and validation data        \n",
    "        splitRatio = 0.9\n",
    "        splitPoint = math.floor(data['img'].shape[0]*splitRatio)\n",
    "        train_data = {'img': data['img'][0:splitPoint], 'label': data['label'][0:splitPoint]}\n",
    "        validation_data = {'img': data['img'][splitPoint:], 'label': data['label'][splitPoint:]}\n",
    "#         print('train_data[img].shape = ', train_data['img'].shape)\n",
    "#         print('train_data[label].shape = ', train_data['label'].shape)\n",
    "#         print('validation_data[img].shape = ', validation_data['img'].shape)\n",
    "#         print('valdiation_data[label].shape = ', validation_data['label'].shape)\n",
    "#         print('dataSpecs = ', dataSpecs['classLength'])\n",
    "\n",
    "\n",
    "        # Keras!\n",
    "        model = Sequential()\n",
    "\n",
    "        # Layer 1\n",
    "        model.add(Conv2D(32, (3,3), activation='relu', input_shape=(385, 385, 1), data_format='channels_last'))\n",
    "        model.add(MaxPooling2D(pool_size=(2, 2)))\n",
    "        # Layer 2\n",
    "        model.add(Conv2D(32, (3,3), activation='relu')) \n",
    "        model.add(MaxPooling2D(pool_size=(2, 2)))\n",
    "        # Layer 3    \n",
    "        model.add(Conv2D(32, (3,3), activation='relu'))  \n",
    "        model.add(MaxPooling2D(pool_size=(2, 2)))\n",
    "        # Layer 4     \n",
    "        model.add(Conv2D(32, (3,3), activation='relu'))   \n",
    "        model.add(MaxPooling2D(pool_size=(2, 2)))    \n",
    "        # Layer 5     \n",
    "        #model.add(Conv2D(32, (3,3), activation='relu'))   \n",
    "        #model.add(MaxPooling2D(pool_size=(2, 2)))\n",
    "        # Layer 6\n",
    "        model.add(Flatten())\n",
    "        model.add(Dense(1024, activation='relu'))\n",
    "        model.add(Dropout(0.5))\n",
    "        model.add(Dense(2, activation='softmax'))\n",
    "\n",
    "        sgd = optimizers.SGD(lr=5, decay=1e-6, momentum=0.9, nesterov=True)\n",
    "        adam = optimizers.Adam(lr=0.001, beta_1=0.9, beta_2=0.999, epsilon=None, decay=0.0, amsgrad=False) #0.001\n",
    "        model.compile(loss='binary_crossentropy',\n",
    "                optimizer=adam,\n",
    "                metrics=['accuracy']) # Accuracy will now be returned when evaluate is called\n",
    "        tensorboard = TensorBoard(log_dir='/vol/vssp/mammo2/will/logs/new'.format(time()), write_images=True)\n",
    "        if folds == 1:\n",
    "            model.summary()   \n",
    "\n",
    "        # Train\n",
    "        model.fit(train_data['img'], train_data['label'], \n",
    "                batch_size=100, epochs=100, verbose=1,\n",
    "                callbacks=[TrainValTensorBoard(write_graph=False)],\n",
    "                validation_data=(validation_data['img'], validation_data['label']))\n",
    "\n",
    "        # Evaluate\n",
    "        score = model.evaluate(validation_data['img'], validation_data['label'], verbose=0)\n",
    "        valStats.append(score)\n",
    "        print('The score is......\\n', score)\n",
    "    print(valStats,'\\n')\n",
    "    print('Average loss: ', sum(valStats[:][0])/folds)\n",
    "    print('Average validation: ', sum(valStats[:][1])/folds)\n",
    "    \n",
    "if __name__ == \"__main__\":\n",
    "    main()"
   ]
  },
  {
   "cell_type": "code",
   "execution_count": 2,
   "metadata": {
    "ExecuteTime": {
     "end_time": "2018-07-10T18:53:10.866259Z",
     "start_time": "2018-07-10T18:53:10.861705Z"
    }
   },
   "outputs": [
    {
     "name": "stdout",
     "output_type": "stream",
     "text": [
      "hello world\n"
     ]
    }
   ],
   "source": [
    "print('hello world')"
   ]
  },
  {
   "cell_type": "code",
   "execution_count": 12,
   "metadata": {
    "ExecuteTime": {
     "end_time": "2018-07-10T19:07:56.022196Z",
     "start_time": "2018-07-10T19:07:56.016691Z"
    }
   },
   "outputs": [
    {
     "name": "stdout",
     "output_type": "stream",
     "text": [
      "[0.6940992025681484, 0.3950617283950617]\n",
      "0.603475002594936\n"
     ]
    }
   ],
   "source": [
    "x = [[0.6940992025681484, 0.3950617283950617], [0.6884314866713536, 0.5185185185185185], [0.6855149121932042, 0.5679012345679012]]\n",
    "print(x[0])\n",
    "print(sum(x[:][1])/2)"
   ]
  },
  {
   "cell_type": "code",
   "execution_count": null,
   "metadata": {},
   "outputs": [],
   "source": []
  }
 ],
 "metadata": {
  "kernelspec": {
   "display_name": "Python 3",
   "language": "python",
   "name": "python3"
  },
  "language_info": {
   "codemirror_mode": {
    "name": "ipython",
    "version": 3
   },
   "file_extension": ".py",
   "mimetype": "text/x-python",
   "name": "python",
   "nbconvert_exporter": "python",
   "pygments_lexer": "ipython3",
   "version": "3.6.5"
  },
  "varInspector": {
   "cols": {
    "lenName": 16,
    "lenType": 16,
    "lenVar": 40
   },
   "kernels_config": {
    "python": {
     "delete_cmd_postfix": "",
     "delete_cmd_prefix": "del ",
     "library": "var_list.py",
     "varRefreshCmd": "print(var_dic_list())"
    },
    "r": {
     "delete_cmd_postfix": ") ",
     "delete_cmd_prefix": "rm(",
     "library": "var_list.r",
     "varRefreshCmd": "cat(var_dic_list()) "
    }
   },
   "position": {
    "height": "144px",
    "left": "1504px",
    "right": "20px",
    "top": "140px",
    "width": "350px"
   },
   "types_to_exclude": [
    "module",
    "function",
    "builtin_function_or_method",
    "instance",
    "_Feature"
   ],
   "window_display": false
  }
 },
 "nbformat": 4,
 "nbformat_minor": 2
}
